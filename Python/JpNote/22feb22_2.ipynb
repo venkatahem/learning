{
 "cells": [
  {
   "cell_type": "code",
   "execution_count": 9,
   "metadata": {},
   "outputs": [
    {
     "name": "stdout",
     "output_type": "stream",
     "text": [
      "['Hello', 1, 'one']\n",
      "1\n",
      "[1, 'one']\n",
      "['Hello', 1]\n",
      "['Hello', 'one']\n",
      "['Hello', 1, 'one']\n"
     ]
    }
   ],
   "source": [
    "my_list = ['Hello',1,'one']\n",
    "\n",
    "print(my_list)\n",
    "print(my_list[1])\n",
    "print(my_list[1:])\n",
    "print(my_list[:2])\n",
    "print(my_list[::2])\n",
    "\n",
    "temp = my_list\n",
    "\n",
    "print(temp)"
   ]
  },
  {
   "cell_type": "code",
   "execution_count": 16,
   "metadata": {},
   "outputs": [
    {
     "name": "stdout",
     "output_type": "stream",
     "text": [
      "[['Hello', 23, 'First'], 2434, 'Yes']\n",
      "['Hello', 23, 'First']\n",
      "First\n"
     ]
    }
   ],
   "source": [
    "newlist = [['Hello',23,'First'],2434,'Yes']\n",
    "print(newlist)\n",
    "print(newlist[0])\n",
    "print(newlist[0][2])"
   ]
  },
  {
   "cell_type": "code",
   "execution_count": 13,
   "metadata": {},
   "outputs": [
    {
     "name": "stdout",
     "output_type": "stream",
     "text": [
      "[2, 5, 1, 8, 943, 99, 12687, 12, 0, 542, 23, 21, 13, 355]\n",
      "[0, 1, 2, 5, 8, 12, 13, 21, 23, 99, 355, 542, 943, 12687]\n"
     ]
    }
   ],
   "source": [
    "numlist = [2,5,1,8,943,99,12687,12,0,542,23,21,13,355]\n",
    "print(numlist)\n",
    "numlist.sort()\n",
    "print(numlist)"
   ]
  },
  {
   "cell_type": "code",
   "execution_count": 32,
   "metadata": {},
   "outputs": [
    {
     "name": "stdout",
     "output_type": "stream",
     "text": [
      "This is [2, 5, 1, 8, 943, 99, 12687, 12, 0, 542, 23, 21, 13, 355] and ['Nested', 'list'] and {'k31': 'Nested', 'k32': 'dictionary'}\n"
     ]
    },
    {
     "data": {
      "text/plain": [
       "dict_items([('k1', 'Hi'), ('k2', ['Nested', 'list']), ('k3', {'k31': 'Nested', 'k32': 'dictionary'})])"
      ]
     },
     "execution_count": 32,
     "metadata": {},
     "output_type": "execute_result"
    }
   ],
   "source": [
    "#numlist = [2,5,1,8,943,99,12687,12,0,542,23,21,13,355]\n",
    "dict1 = {'k1':\"Hi\",\"k2\":['Nested','list'],'k3':{'k31':\"Nested\",'k32':'dictionary'}}\n",
    "dict1\n",
    "dict1['k3']['k32']\n",
    "\n",
    "print(\"This is {a} and {c} and {b}\".format(c=dict1['k2'],b=dict1['k3'],a=numlist))\n",
    "dict1.keys()\n",
    "dict1.values()\n",
    "dict1.items()"
   ]
  },
  {
   "cell_type": "code",
   "execution_count": 4,
   "metadata": {},
   "outputs": [
    {
     "data": {
      "text/plain": [
       "{'e', 'o', 'p', 'r', 'w'}"
      ]
     },
     "execution_count": 4,
     "metadata": {},
     "output_type": "execute_result"
    }
   ],
   "source": [
    "myset = set('pppoooowwwwerrr')\n",
    "myset"
   ]
  }
 ],
 "metadata": {
  "interpreter": {
   "hash": "b3ba2566441a7c06988d0923437866b63cedc61552a5af99d1f4fb67d367b25f"
  },
  "kernelspec": {
   "display_name": "Python 3.9.7 ('base')",
   "language": "python",
   "name": "python3"
  },
  "language_info": {
   "codemirror_mode": {
    "name": "ipython",
    "version": 3
   },
   "file_extension": ".py",
   "mimetype": "text/x-python",
   "name": "python",
   "nbconvert_exporter": "python",
   "pygments_lexer": "ipython3",
   "version": "3.9.7"
  },
  "orig_nbformat": 4
 },
 "nbformat": 4,
 "nbformat_minor": 2
}
