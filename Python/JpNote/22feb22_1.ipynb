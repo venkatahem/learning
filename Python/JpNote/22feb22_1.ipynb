{
 "cells": [
  {
   "cell_type": "code",
   "execution_count": 5,
   "id": "31115a93",
   "metadata": {},
   "outputs": [
    {
     "name": "stdout",
     "output_type": "stream",
     "text": [
      "Hello\n"
     ]
    }
   ],
   "source": [
    "print(\"Hello\")"
   ]
  },
  {
   "cell_type": "code",
   "execution_count": 7,
   "id": "9b71b219",
   "metadata": {},
   "outputs": [
    {
     "data": {
      "text/plain": [
       "5"
      ]
     },
     "execution_count": 7,
     "metadata": {},
     "output_type": "execute_result"
    }
   ],
   "source": [
    "2+3"
   ]
  },
  {
   "cell_type": "code",
   "execution_count": 6,
   "id": "a50f106c",
   "metadata": {},
   "outputs": [
    {
     "name": "stdout",
     "output_type": "stream",
     "text": [
      "2+3 = 5\n"
     ]
    }
   ],
   "source": [
    "print(\"2+3 = 5\")"
   ]
  },
  {
   "cell_type": "code",
   "execution_count": 9,
   "id": "aa53858c",
   "metadata": {},
   "outputs": [
    {
     "data": {
      "text/plain": [
       "1"
      ]
     },
     "execution_count": 9,
     "metadata": {},
     "output_type": "execute_result"
    }
   ],
   "source": [
    "a=2+3"
   ]
  },
  {
   "cell_type": "markdown",
   "id": "77af572e",
   "metadata": {},
   "source": [
    "1st"
   ]
  },
  {
   "cell_type": "code",
   "execution_count": 19,
   "id": "8c8e82ca",
   "metadata": {},
   "outputs": [
    {
     "name": "stdout",
     "output_type": "stream",
     "text": [
      "2+3 = 5 == 5\n"
     ]
    }
   ],
   "source": [
    "a=\"5\"\n",
    "b=3+2\n",
    "print(\"2+3 =\",b,\"== 5\")"
   ]
  },
  {
   "cell_type": "code",
   "execution_count": 21,
   "id": "d90ee5a5",
   "metadata": {},
   "outputs": [
    {
     "name": "stdout",
     "output_type": "stream",
     "text": [
      "Hello & welcome Sai\n",
      "Hello & welcome Sam\n"
     ]
    }
   ],
   "source": [
    "print(\"Hello {} welcome {}\".format(\"&\",\"Sai\"))\n",
    "a = \"Hello {} welcome {}\".format(\"&\",\"Sam\")\n",
    "print(a)"
   ]
  },
  {
   "cell_type": "code",
   "execution_count": 23,
   "id": "2dc4ff81",
   "metadata": {},
   "outputs": [
    {
     "name": "stdout",
     "output_type": "stream",
     "text": [
      "The quick brown fox\n",
      "The quick brown fox\n",
      "The quick quick quick\n"
     ]
    }
   ],
   "source": [
    "b = 'The {2} {0} {1}'.format('brown','fox','quick')\n",
    "print(b)\n",
    "b = 'The {q} {b} {f}'.format(b='brown',f='fox',q='quick')\n",
    "print(b)\n",
    "b = 'The {q} {q} {q}'.format(b='brown',f='fox',q='quick')\n",
    "print(b)"
   ]
  }
 ],
 "metadata": {
  "kernelspec": {
   "display_name": "Python 3 (ipykernel)",
   "language": "python",
   "name": "python3"
  },
  "language_info": {
   "codemirror_mode": {
    "name": "ipython",
    "version": 3
   },
   "file_extension": ".py",
   "mimetype": "text/x-python",
   "name": "python",
   "nbconvert_exporter": "python",
   "pygments_lexer": "ipython3",
   "version": "3.9.7"
  }
 },
 "nbformat": 4,
 "nbformat_minor": 5
}
