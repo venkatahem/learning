{
 "cells": [
  {
   "cell_type": "code",
   "execution_count": 12,
   "id": "1408c6e1",
   "metadata": {},
   "outputs": [],
   "source": [
    "import cv2\n",
    "import numpy as np\n",
    "import urllib\n",
    "image_url = \"https://mypage114041763.files.wordpress.com/2023/11/4043580.jpg?resize=438%2C438\"\n",
    "req = urllib.request.urlopen(image_url)\n",
    "arr = np.asarray(bytearray(req.read()), dtype=np.uint8)\n",
    "color_image = cv2.imdecode(arr, -1)\n",
    "image = cv2.cvtColor(color_image, cv2.COLOR_BGR2GRAY)\n",
    "_, binary_image = cv2.threshold(image, 0, 255, cv2.THRESH_BINARY + cv2.THRESH_OTSU)\n",
    "cv2.imshow('Original Image', image)\n",
    "cv2.imshow('Binary Image', binary_image)\n",
    "cv2.waitKey(0)\n",
    "cv2.destroyAllWindows()"
   ]
  }
 ],
 "metadata": {
  "kernelspec": {
   "display_name": "Python 3 (ipykernel)",
   "language": "python",
   "name": "python3"
  },
  "language_info": {
   "codemirror_mode": {
    "name": "ipython",
    "version": 3
   },
   "file_extension": ".py",
   "mimetype": "text/x-python",
   "name": "python",
   "nbconvert_exporter": "python",
   "pygments_lexer": "ipython3",
   "version": "3.10.11"
  }
 },
 "nbformat": 4,
 "nbformat_minor": 5
}
