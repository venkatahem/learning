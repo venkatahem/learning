{
 "cells": [
  {
   "cell_type": "code",
   "execution_count": 37,
   "id": "0ed2cd39",
   "metadata": {},
   "outputs": [],
   "source": [
    "import cv2\n",
    "import numpy as np\n",
    "import urllib\n",
    "from scipy.ndimage import label, find_objects"
   ]
  },
  {
   "cell_type": "code",
   "execution_count": 38,
   "id": "d28dde52",
   "metadata": {},
   "outputs": [],
   "source": [
    "def is_region_pixel(image, x, y):\n",
    "    return image[y, x] > 58"
   ]
  },
  {
   "cell_type": "code",
   "execution_count": 39,
   "id": "6519a2d8",
   "metadata": {},
   "outputs": [],
   "source": [
    "def region_growing(image, seed):\n",
    "    visited = np.zeros_like(image, dtype=np.uint8)\n",
    "    region = np.zeros_like(image, dtype=np.uint8)\n",
    "    stack = [seed]\n",
    "    while stack:\n",
    "        x, y = stack.pop()\n",
    "        if visited[y, x] == 1:\n",
    "            continue\n",
    "        if is_region_pixel(image, x, y):\n",
    "            region[y, x] = 255\n",
    "            visited[y, x] = 1\n",
    "            if x > 0:\n",
    "                stack.append((x - 1, y))\n",
    "            if x < image.shape[1] - 1:\n",
    "                stack.append((x + 1, y))\n",
    "            if y > 0:\n",
    "                stack.append((x, y - 1))\n",
    "            if y < image.shape[0] - 1:\n",
    "                stack.append((x, y + 1))\n",
    "    return region"
   ]
  },
  {
   "cell_type": "code",
   "execution_count": 40,
   "id": "319894ea",
   "metadata": {},
   "outputs": [],
   "source": [
    "image_url = \"https://mypage114041763.files.wordpress.com/2023/11/4043580.jpg?resize=438%2C438\"\n",
    "req = urllib.request.urlopen(image_url)\n",
    "arr = np.asarray(bytearray(req.read()), dtype=np.uint8)\n",
    "color_image = cv2.imdecode(arr, -1)\n",
    "image = cv2.cvtColor(color_image, cv2.COLOR_BGR2GRAY)\n",
    "seed_x, seed_y = 150, 50\n",
    "segmented_region = region_growing(image, (seed_x, seed_y))\n",
    "cv2.imshow('Original Image', image)\n",
    "cv2.imshow('Segmented Region', segmented_region)\n",
    "cv2.waitKey(0)\n",
    "cv2.destroyAllWindows()"
   ]
  },
  {
   "cell_type": "code",
   "execution_count": 41,
   "id": "9a2f5828",
   "metadata": {},
   "outputs": [],
   "source": [
    "moments = cv2.moments(segmented_region)\n",
    "m00 = moments['m00']\n",
    "m10 = moments['m10']\n",
    "m01 = moments['m01']\n",
    "m20 = moments['m20']\n",
    "m11 = moments['m11']\n",
    "m02 = moments['m02']"
   ]
  },
  {
   "cell_type": "code",
   "execution_count": 42,
   "id": "f85a8370",
   "metadata": {},
   "outputs": [
    {
     "name": "stdout",
     "output_type": "stream",
     "text": [
      "Zeroth Order Moment (Area): 47539650.0\n",
      "First Order Moments (Centroid):\n",
      "  X-Coordinate: 219.83293997747143\n",
      "  Y-Coordinate: 215.49058627903236\n",
      "Second Order Moments (Covariance Matrix):\n",
      "  m20: 3068114542425.0\n",
      "  m11: 2260531195080.0\n",
      "  m02: 2961585162300.0\n"
     ]
    }
   ],
   "source": [
    "print(\"Zeroth Order Moment (Area):\", m00)\n",
    "print(\"First Order Moments (Centroid):\")\n",
    "print(\"  X-Coordinate:\", m10 / m00)\n",
    "print(\"  Y-Coordinate:\", m01 / m00)\n",
    "print(\"Second Order Moments (Covariance Matrix):\")\n",
    "print(\"  m20:\", m20)\n",
    "print(\"  m11:\", m11)\n",
    "print(\"  m02:\", m02)"
   ]
  }
 ],
 "metadata": {
  "kernelspec": {
   "display_name": "Python 3 (ipykernel)",
   "language": "python",
   "name": "python3"
  },
  "language_info": {
   "codemirror_mode": {
    "name": "ipython",
    "version": 3
   },
   "file_extension": ".py",
   "mimetype": "text/x-python",
   "name": "python",
   "nbconvert_exporter": "python",
   "pygments_lexer": "ipython3",
   "version": "3.10.11"
  }
 },
 "nbformat": 4,
 "nbformat_minor": 5
}
